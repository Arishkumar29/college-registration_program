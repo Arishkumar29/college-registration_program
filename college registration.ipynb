{
 "cells": [
  {
   "cell_type": "code",
   "execution_count": null,
   "id": "e9653096",
   "metadata": {},
   "outputs": [
    {
     "name": "stdout",
     "output_type": "stream",
     "text": [
      "\t\t\tWELCOME TO ARISH IIT COLLEGE OF TAMILNADU\n",
      "\n"
     ]
    }
   ],
   "source": [
    "print('\\t\\t\\tWELCOME TO IIT COLLEGE OF TAMILNADU\\n')\n",
    "\n",
    "def end():\n",
    "    \tprint('you try next year')\n",
    "        \n",
    "def detail():\n",
    "    \tprint('\\t\\t\\t\\nEnter the Basic information')\n",
    "    \ta=input('Enter the Name                 :')\n",
    "    \tb=int(input('Enter the age               : '))\n",
    "    \tif b>=18:\n",
    "    \t\tprint('')\n",
    "    \telse:\n",
    "    \t\tend()\n",
    "    \tc=int(input('12th Total mark             : '))\n",
    "    \td=int(input('12th Obtained mark          : '))\n",
    "    \te=int(input('Enter the maths mark        : '))\n",
    "    \tf=int(input('Enter the pyhsics mark      : '))\n",
    "    \tg=int(input('Enter the chemistry         : '))\n",
    "    \th=int(input('10th Total mark             : '))\n",
    "    \ti=int(input('10th obtained mark          : '))\n",
    "    \tj=int(input('Enter the your phone number : '))\n",
    "    \tverify(a,b,c,d,e,f,g,h,i,j)\n",
    "        \n",
    "        \n",
    "def verify(a,b,c,d,e,f,g,h,i,j):\n",
    "    print('\\t\\t\\tPERSONAL DETAILS :-')\n",
    "    print('\\t\\t\\tName            : ',a)\n",
    "    print('\\t\\t\\tAge             : ',b)\n",
    "    print('\\t\\t\\t12th Marks      : ',d,'/',c)\n",
    "    print('\\t\\t\\tYour cut off    : ',e/2+f/2+g/2)\n",
    "    print('\\t\\t\\t10th Marks      : ',i,'/',h)\n",
    "    print('\\t\\t\\tphone Number    : ',j) \n",
    "    y=input('\\nAny changes(yes/no) : ')\n",
    "    if y=='yes':\n",
    "            detail()\n",
    "    \n",
    "    \n",
    "    \n",
    "    else:\n",
    "            print('OK')\n",
    "            print('\\n\\t\\t\\tTHANKYOU FOR REGISTRATION')\n",
    "a=input('\\nAre you interest in my college (yes/no): ')\n",
    "if a=='yes':\n",
    "    \tprint('ok')\n",
    "    \tdetail()\n",
    "else:\n",
    "    \tprint('Thank you')\n",
    "    \n",
    "\t\n",
    "\n"
   ]
  }
 ],
 "metadata": {
  "kernelspec": {
   "display_name": "Python 3 (ipykernel)",
   "language": "python",
   "name": "python3"
  },
  "language_info": {
   "codemirror_mode": {
    "name": "ipython",
    "version": 3
   },
   "file_extension": ".py",
   "mimetype": "text/x-python",
   "name": "python",
   "nbconvert_exporter": "python",
   "pygments_lexer": "ipython3",
   "version": "3.9.12"
  }
 },
 "nbformat": 4,
 "nbformat_minor": 5
}
